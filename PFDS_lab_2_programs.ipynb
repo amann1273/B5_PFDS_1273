{
  "nbformat": 4,
  "nbformat_minor": 0,
  "metadata": {
    "colab": {
      "provenance": [],
      "authorship_tag": "ABX9TyP2rfXCL6oFoGX+KaEIXkAp",
      "include_colab_link": true
    },
    "kernelspec": {
      "name": "python3",
      "display_name": "Python 3"
    },
    "language_info": {
      "name": "python"
    }
  },
  "cells": [
    {
      "cell_type": "markdown",
      "metadata": {
        "id": "view-in-github",
        "colab_type": "text"
      },
      "source": [
        "<a href=\"https://colab.research.google.com/github/amann1273/B5_PFDS_1273/blob/main/PFDS_lab_2_programs.ipynb\" target=\"_parent\"><img src=\"https://colab.research.google.com/assets/colab-badge.svg\" alt=\"Open In Colab\"/></a>"
      ]
    },
    {
      "cell_type": "code",
      "execution_count": null,
      "metadata": {
        "colab": {
          "base_uri": "https://localhost:8080/"
        },
        "id": "OFCKjlxtEp1t",
        "outputId": "169d7f1f-bbee-454e-e886-119555ad8a1b"
      },
      "outputs": [
        {
          "output_type": "stream",
          "name": "stdout",
          "text": [
            "Enter a number (0 to 10): 9\n",
            "\n",
            "Starting factorial of 9\n",
            "\n",
            "factorial(9) called\n",
            "factorial(8) called\n",
            "factorial(7) called\n",
            "factorial(6) called\n",
            "factorial(5) called\n",
            "factorial(4) called\n",
            "factorial(3) called\n",
            "factorial(2) called\n",
            "factorial(1) called\n",
            "Returning 1 (base case)\n",
            "Returning 2 from factorial(2)\n",
            "Returning 6 from factorial(3)\n",
            "Returning 24 from factorial(4)\n",
            "Returning 120 from factorial(5)\n",
            "Returning 720 from factorial(6)\n",
            "Returning 5040 from factorial(7)\n",
            "Returning 40320 from factorial(8)\n",
            "Returning 362880 from factorial(9)\n",
            "\n",
            "Factorial of 9 is: 362880\n"
          ]
        }
      ],
      "source": [
        "#q1\n",
        "def factorial(n):\n",
        "    print(f\"factorial({n}) called\")\n",
        "    if n == 0 or n == 1:\n",
        "        print(f\"Returning 1 (base case)\")\n",
        "        return 1\n",
        "    else:\n",
        "        result = n * factorial(n - 1)\n",
        "        print(f\"Returning {result} from factorial({n})\")\n",
        "        return result\n",
        "\n",
        "num = int(input(\"Enter a number (0 to 10): \"))\n",
        "if num < 0 or num > 10:\n",
        "    print(\"Please enter a number between 0 and 10\")\n",
        "else:\n",
        "    print(f\"\\nStarting factorial of {num}\\n\")\n",
        "    answer = factorial(num)\n",
        "    print(f\"\\nFactorial of {num} is: {answer}\")"
      ]
    },
    {
      "cell_type": "code",
      "source": [
        "#q2\n",
        "import numpy as np\n",
        "\n",
        "# Format: [ [Math, Physics, Chemistry], ... ]\n",
        "marks = np.array([\n",
        "    [85, 78, 92],\n",
        "    [70, 65, 80],\n",
        "    [90, 88, 84],\n",
        "    [60, 75, 70],\n",
        "    [95, 98, 99]\n",
        "])\n",
        "\n",
        "print(\"Student Marks (rows=students, cols=subjects):\\n\", marks)\n",
        "\n",
        "student_avg = np.mean(marks, axis=1)\n",
        "student_min = np.min(marks, axis=1)\n",
        "student_max = np.max(marks, axis=1)\n",
        "\n",
        "print(\"\\nAverage marks per student:\", student_avg)\n",
        "print(\"Minimum marks per student:\", student_min)\n",
        "print(\"Maximum marks per student:\", student_max)\n",
        "\n",
        "print(\"\\nMarks of 3rd student:\", marks[2])\n",
        "\n",
        "above_80 = student_avg > 80\n",
        "print(\"\\nStudents with average marks > 80:\\n\", marks[above_80])\n",
        "\n",
        "reshaped = marks.T\n",
        "print(\"\\nSubject-wise Performance (rows=subjects):\\n\", reshaped)"
      ],
      "metadata": {
        "colab": {
          "base_uri": "https://localhost:8080/"
        },
        "id": "pMiECqMEI1qT",
        "outputId": "30d86963-d20b-4bbc-98e6-c58826841f67"
      },
      "execution_count": null,
      "outputs": [
        {
          "output_type": "stream",
          "name": "stdout",
          "text": [
            "Student Marks (rows=students, cols=subjects):\n",
            " [[85 78 92]\n",
            " [70 65 80]\n",
            " [90 88 84]\n",
            " [60 75 70]\n",
            " [95 98 99]]\n",
            "\n",
            "Average marks per student: [85.         71.66666667 87.33333333 68.33333333 97.33333333]\n",
            "Minimum marks per student: [78 65 84 60 95]\n",
            "Maximum marks per student: [92 80 90 75 99]\n",
            "\n",
            "Marks of 3rd student: [90 88 84]\n",
            "\n",
            "Students with average marks > 80:\n",
            " [[85 78 92]\n",
            " [90 88 84]\n",
            " [95 98 99]]\n",
            "\n",
            "Subject-wise Performance (rows=subjects):\n",
            " [[85 70 90 60 95]\n",
            " [78 65 88 75 98]\n",
            " [92 80 84 70 99]]\n"
          ]
        }
      ]
    }
  ]
}