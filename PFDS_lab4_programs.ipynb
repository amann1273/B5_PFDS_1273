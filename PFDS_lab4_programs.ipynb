{
  "nbformat": 4,
  "nbformat_minor": 0,
  "metadata": {
    "colab": {
      "provenance": [],
      "authorship_tag": "ABX9TyPZuI/KO4pHC+GBSp3M1nZM",
      "include_colab_link": true
    },
    "kernelspec": {
      "name": "python3",
      "display_name": "Python 3"
    },
    "language_info": {
      "name": "python"
    }
  },
  "cells": [
    {
      "cell_type": "markdown",
      "metadata": {
        "id": "view-in-github",
        "colab_type": "text"
      },
      "source": [
        "<a href=\"https://colab.research.google.com/github/amann1273/B5_PFDS_1273/blob/main/PFDS_lab4_programs.ipynb\" target=\"_parent\"><img src=\"https://colab.research.google.com/assets/colab-badge.svg\" alt=\"Open In Colab\"/></a>"
      ]
    },
    {
      "cell_type": "code",
      "source": [
        "#Q1\n",
        "import csv\n",
        "\n",
        "with open(\"student_scores.csv\", 'w', newline='') as fp:\n",
        "    wr = csv.writer(fp)\n",
        "    wr.writerow([\"student_id\",\"Name\", \"Science\", \"English\",\"Maths\"])\n",
        "    for i in range(2):\n",
        "        student_id=input(\"Enter student_id:\")\n",
        "        name = input(\"Enter name: \")\n",
        "        Science = int(input(\"Enter Science marks: \"))\n",
        "        English = int(input(\"Enter English marks: \"))\n",
        "        Maths = int(input(\"Enter Maths marks: \"))\n",
        "        wr.writerow([student_id,name, Science, English,Maths])"
      ],
      "metadata": {
        "colab": {
          "base_uri": "https://localhost:8080/"
        },
        "id": "OCinkfckKGhH",
        "outputId": "ebce5914-b462-4156-e6ba-0bb329d32cb9"
      },
      "execution_count": null,
      "outputs": [
        {
          "name": "stdout",
          "output_type": "stream",
          "text": [
            "Enter student_id:1273\n",
            "Enter name: abcd\n",
            "Enter Science marks: 70\n",
            "Enter English marks: 90\n",
            "Enter Maths marks: 80\n",
            "Enter student_id:1310\n",
            "Enter name: pqrs\n",
            "Enter Science marks: 80\n",
            "Enter English marks: 85\n",
            "Enter Maths marks: 80\n"
          ]
        }
      ]
    },
    {
      "cell_type": "code",
      "source": [
        "import csv\n",
        "\n",
        "with open(\"student_scores.csv\", 'r') as file:\n",
        "    csv_reader = csv.reader(file)\n",
        "    for row in csv_reader:\n",
        "        print(row)"
      ],
      "metadata": {
        "colab": {
          "base_uri": "https://localhost:8080/"
        },
        "id": "YDArQZglOLsg",
        "outputId": "a30ec2ab-7818-4764-ad83-811dbc0c82b3"
      },
      "execution_count": null,
      "outputs": [
        {
          "output_type": "stream",
          "name": "stdout",
          "text": [
            "['student_id', 'Name', 'Science', 'English', 'Maths']\n",
            "['1273', 'abcd', '70', '90', '80']\n",
            "['1310', 'pqrs', '80', '85', '80']\n"
          ]
        }
      ]
    },
    {
      "cell_type": "code",
      "source": [
        "#Q2\n",
        "import csv\n",
        "with open(\"hospital_records.csv\",'w', newline = '') as fp:\n",
        "  wr = csv.writer(fp)\n",
        "  wr.writerow([\"Patient_ID\", \"Name\", \"Age\", \"Gender\",\n",
        "\"Diagnosis\", \"Admission_Date\"])\n",
        "  for i in range(3):\n",
        "    Patient_ID = int(input(\"Enter Patient ID: \"))\n",
        "    Name = input(\"Enter Patient Name: \")\n",
        "    Age = int(input(\"Enter Patient Age: \"))\n",
        "    Gender = input(\"Enter Patient Gender: \")\n",
        "    Diagnosis = input(\"Enter Patient Diagnosis: \")\n",
        "    Admission_Date = input(\"Enter Patient Admission Date: \")\n",
        "    wr.writerow([Patient_ID, Name, Age, Gender,\n",
        "Diagnosis, Admission_Date])"
      ],
      "metadata": {
        "colab": {
          "base_uri": "https://localhost:8080/"
        },
        "id": "OfQ0xrFtRZWS",
        "outputId": "7652098b-6a0e-4046-fb12-28ecb84ffae2"
      },
      "execution_count": 2,
      "outputs": [
        {
          "name": "stdout",
          "output_type": "stream",
          "text": [
            "Enter Patient ID: 101\n",
            "Enter Patient Name: abc\n",
            "Enter Patient Age: 45\n",
            "Enter Patient Gender: male\n",
            "Enter Patient Diagnosis: heart\n",
            "Enter Patient Admission Date: 08-09-2025\n",
            "Enter Patient ID: 102\n",
            "Enter Patient Name: xyz\n",
            "Enter Patient Age: 55\n",
            "Enter Patient Gender: female\n",
            "Enter Patient Diagnosis: kidney\n",
            "Enter Patient Admission Date: 15-10-2025\n",
            "Enter Patient ID: 103\n",
            "Enter Patient Name: pqr\n",
            "Enter Patient Age: 60\n",
            "Enter Patient Gender: male\n",
            "Enter Patient Diagnosis: liver\n",
            "Enter Patient Admission Date: 22-3-2025\n"
          ]
        }
      ]
    },
    {
      "cell_type": "code",
      "source": [
        "import csv\n",
        "with open(\"hospital_records.csv\",'r') as fp:\n",
        "  rd = csv.reader(fp)\n",
        "  for row in rd:\n",
        "    print(row)"
      ],
      "metadata": {
        "id": "qJLcn1jlSIMn",
        "colab": {
          "base_uri": "https://localhost:8080/"
        },
        "outputId": "9467a497-1942-4725-c45d-da21e06e4a12"
      },
      "execution_count": 3,
      "outputs": [
        {
          "output_type": "stream",
          "name": "stdout",
          "text": [
            "['Patient_ID', 'Name', 'Age', 'Gender', 'Diagnosis', 'Admission_Date']\n",
            "['101', 'abc', '45', 'male', 'heart', '08-09-2025']\n",
            "['102', 'xyz', '55', 'female', 'kidney', '15-10-2025']\n",
            "['103', 'pqr', '60', 'male', 'liver', '22-3-2025']\n"
          ]
        }
      ]
    }
  ]
}